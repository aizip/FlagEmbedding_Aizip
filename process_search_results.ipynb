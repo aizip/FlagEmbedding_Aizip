{
 "cells": [
  {
   "cell_type": "code",
   "execution_count": 1,
   "metadata": {},
   "outputs": [],
   "source": [
    "DATA_DIR = \"/home/jinho/FlagEmbedding_Aizip/beir/data/sb_qna\""
   ]
  },
  {
   "cell_type": "code",
   "execution_count": 2,
   "metadata": {},
   "outputs": [],
   "source": [
    "import json\n",
    "\n",
    "with open(f'{DATA_DIR}/corpus.jsonl', 'r') as f:\n",
    "    corpus = [json.loads(line) for line in f]"
   ]
  },
  {
   "cell_type": "code",
   "execution_count": 3,
   "metadata": {},
   "outputs": [],
   "source": [
    "with open(f'{DATA_DIR}/test_queries.jsonl', 'r') as f:\n",
    "    queries = [json.loads(line) for line in f]"
   ]
  },
  {
   "cell_type": "code",
   "execution_count": 4,
   "metadata": {},
   "outputs": [],
   "source": [
    "with open(f'{DATA_DIR}/test_qrels.jsonl', 'r') as f:\n",
    "    qrels = [json.loads(line) for line in f]"
   ]
  },
  {
   "cell_type": "code",
   "execution_count": 5,
   "metadata": {},
   "outputs": [],
   "source": [
    "SEARCH_RESULT_FPATH = \"/home/jinho/FlagEmbedding_Aizip/beir/aizip/search_result/sb_qna/20250224_1739/alpha_0.9_rank_4/multilingual-e5-large/bge-reranker-v2-m3/sb_qna-test.json\""
   ]
  },
  {
   "cell_type": "code",
   "execution_count": 6,
   "metadata": {},
   "outputs": [],
   "source": [
    "with open(SEARCH_RESULT_FPATH, \"r\") as f:\n",
    "    search_results = json.load(f)"
   ]
  },
  {
   "cell_type": "code",
   "execution_count": 7,
   "metadata": {},
   "outputs": [],
   "source": [
    "results = search_results['search_results']"
   ]
  },
  {
   "cell_type": "code",
   "execution_count": 8,
   "metadata": {},
   "outputs": [],
   "source": [
    "qrel_dic = {}\n",
    "for d in qrels:\n",
    "    qrel_dic[d['qid']] = d['docid']"
   ]
  },
  {
   "cell_type": "code",
   "execution_count": 9,
   "metadata": {},
   "outputs": [],
   "source": [
    "corpus_dic = {}\n",
    "for c in corpus:\n",
    "    corpus_dic[c['id']] = c['text']"
   ]
  },
  {
   "cell_type": "code",
   "execution_count": 10,
   "metadata": {},
   "outputs": [],
   "source": [
    "correct = []\n",
    "incorrect = []\n",
    "for q in queries:\n",
    "    qid = q['id']\n",
    "    qtext = q['text']\n",
    "    gt_corpus = qrel_dic[qid]\n",
    "    retrieved_corpus = list(results[qid].keys())\n",
    "    if gt_corpus in retrieved_corpus:\n",
    "        correct.append(qid)\n",
    "    else:\n",
    "        context = \"\"\n",
    "        for i in range(len(retrieved_corpus)):\n",
    "            c = retrieved_corpus[i]\n",
    "            context += f\"CONTEXT {i}\\n\\n\"\n",
    "            context += corpus_dic[c]\n",
    "            context += \"\\n\\n\"\n",
    "        incorrect.append({\"input\": qtext, \"gt_corpus\": corpus_dic[gt_corpus], \"retrieved\": context})"
   ]
  },
  {
   "cell_type": "code",
   "execution_count": 11,
   "metadata": {},
   "outputs": [
    {
     "name": "stdout",
     "output_type": "stream",
     "text": [
      "CONTEXT 0\n",
      "\n",
      "「Google Choromeクラッシュしました。このバルーンをクリックして再起動してください」が表示された場合は下記マニュアルを参照し、再インストールを行って下さい。\n",
      "・Google Chrome再インストール方法\n",
      " http://oa.bb.local/curator_web/oasupport/?jumpurl=http://oa.bb.local/oasupport/%3Fpost_type%3Dpost%26p%3D35747\n",
      "\n",
      "CONTEXT 1\n",
      "\n",
      "Zoom Chrome Extension（旧：Zoom Scheduler）の起動後にLoadingと表示される場合は、下記マニュアルの手順でChromeのバージョンアップを実施下さい。\n",
      "\n",
      "・Google Chrome再インストール方法\n",
      "http://oa.bb.local/curator_web/oasupport/?jumpurl=http://oa.bb.local/oasupport/%3Fpost_type%3Dpost%26p%3D35747\n",
      "※ソフトウェアセンターが利用できない場合は、付録1・付録2の手順で対応下さい\n",
      "※付録2-2では最新バージョンをダウンロード下さい\n",
      "\n",
      "CONTEXT 2\n",
      "\n",
      "GoogleChromeが消失した場合、下記手順にてGoogleChromeを再インストール願います。\n",
      "\n",
      "・Google Chrome再インストール方法\n",
      " http://oa.bb.local/curator_web/oasupport/?jumpurl=http://oa.bb.local/oasupport/%3Fpost_type%3Dpost%26p%3D35747\n",
      "\n",
      "ソフトウェアセンターからインストール不可の場合は、下記FAQを参考に再インストールを実施して下さい。\n",
      "参考FAQ\n",
      "・Chromeのバージョンアップをしたら、Chromeが消えてしまった［FAQ No：F000200004］\n",
      " http://oa.bb.local/curator_web/oasupport/?jumpurl=http://oa.bb.local/oasupport/faq/F000200004\n",
      "\n",
      "CONTEXT 3\n",
      "\n",
      "OA側から配布しているChromeについては、正常動作を確認した上で配布しております。\n",
      "業務上、最新バージョンのGoogleChromeの利用が必要な場合は、任意でのバージョンアップを実施して下さい。\n",
      "\n",
      "最新バージョンのGoogleChromeにバージョンアップする場合は、Admin権限が必須となります。\n",
      "\n",
      "・【社内外共通】L2OAPC/準OAPC Admin権限申請・適用方法\n",
      " http://oa.bb.local/curator_web/oasupport/?jumpurl=http://oa.bb.local/oasupport/admintekiyou_shanaigai\n",
      "\n",
      "なお、最新バージョンで不具合が発生した場合は、ダウングレードを実施して下さい\n",
      "・Google Chrome再インストール方法\n",
      "http://oa.bb.local/curator_web/oasupport/?jumpurl=http://oa.bb.local/oasupport/%3Fpost_type%3Dpost%26p%3D35747\n",
      "\n",
      "\n"
     ]
    }
   ],
   "source": [
    "print(incorrect[0]['retrieved'])"
   ]
  },
  {
   "cell_type": "code",
   "execution_count": 12,
   "metadata": {},
   "outputs": [
    {
     "data": {
      "text/plain": [
       "0.833789007259357"
      ]
     },
     "execution_count": 12,
     "metadata": {},
     "output_type": "execute_result"
    }
   ],
   "source": [
    "len(correct) / (len(correct) + len(incorrect))"
   ]
  },
  {
   "cell_type": "code",
   "execution_count": 13,
   "metadata": {},
   "outputs": [],
   "source": [
    "import csv"
   ]
  },
  {
   "cell_type": "code",
   "execution_count": 16,
   "metadata": {},
   "outputs": [],
   "source": [
    "import os"
   ]
  },
  {
   "cell_type": "code",
   "execution_count": 17,
   "metadata": {},
   "outputs": [],
   "source": [
    "dirname = os.path.dirname(SEARCH_RESULT_FPATH)"
   ]
  },
  {
   "cell_type": "code",
   "execution_count": 18,
   "metadata": {},
   "outputs": [
    {
     "data": {
      "text/plain": [
       "'/home/jinho/FlagEmbedding_Aizip/beir/aizip/search_result/sb_qna/20250224_1739/alpha_0.9_rank_4/multilingual-e5-large/bge-reranker-v2-m3'"
      ]
     },
     "execution_count": 18,
     "metadata": {},
     "output_type": "execute_result"
    }
   ],
   "source": [
    "dirname"
   ]
  },
  {
   "cell_type": "code",
   "execution_count": 19,
   "metadata": {},
   "outputs": [
    {
     "name": "stdout",
     "output_type": "stream",
     "text": [
      "CSV file written successfully!\n"
     ]
    }
   ],
   "source": [
    "# Write to CSV file\n",
    "with open(f'{dirname}/missed_retrieval.csv', 'w', newline='') as csvfile:\n",
    "    # Get the field names from the first dictionary\n",
    "    fieldnames = incorrect[0].keys()\n",
    "    \n",
    "    writer = csv.DictWriter(csvfile, fieldnames=fieldnames)\n",
    "    \n",
    "    # Write header\n",
    "    writer.writeheader()\n",
    "    \n",
    "    # Write rows\n",
    "    writer.writerows(incorrect)\n",
    "\n",
    "print(\"CSV file written successfully!\")"
   ]
  }
 ],
 "metadata": {
  "kernelspec": {
   "display_name": "llm",
   "language": "python",
   "name": "python3"
  },
  "language_info": {
   "codemirror_mode": {
    "name": "ipython",
    "version": 3
   },
   "file_extension": ".py",
   "mimetype": "text/x-python",
   "name": "python",
   "nbconvert_exporter": "python",
   "pygments_lexer": "ipython3",
   "version": "3.10.14"
  }
 },
 "nbformat": 4,
 "nbformat_minor": 2
}
