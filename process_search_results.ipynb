{
 "cells": [
  {
   "cell_type": "code",
   "execution_count": 237,
   "metadata": {},
   "outputs": [],
   "source": [
    "dataset_name = \"arguana\""
   ]
  },
  {
   "cell_type": "code",
   "execution_count": 238,
   "metadata": {},
   "outputs": [],
   "source": [
    "DATA_DIR = f\"/home/jinho/FlagEmbedding_Aizip/dataset/{dataset_name}\""
   ]
  },
  {
   "cell_type": "code",
   "execution_count": 239,
   "metadata": {},
   "outputs": [],
   "source": [
    "import json\n",
    "\n",
    "with open(f'{DATA_DIR}/corpus.jsonl', 'r') as f:\n",
    "    corpus = [json.loads(line) for line in f]"
   ]
  },
  {
   "cell_type": "code",
   "execution_count": 240,
   "metadata": {},
   "outputs": [],
   "source": [
    "with open(f'{DATA_DIR}/test_queries.jsonl', 'r') as f:\n",
    "    queries = [json.loads(line) for line in f]"
   ]
  },
  {
   "cell_type": "code",
   "execution_count": 241,
   "metadata": {},
   "outputs": [],
   "source": [
    "with open(f'{DATA_DIR}/test_qrels.jsonl', 'r') as f:\n",
    "    qrels = [json.loads(line) for line in f]"
   ]
  },
  {
   "cell_type": "code",
   "execution_count": 242,
   "metadata": {},
   "outputs": [],
   "source": [
    "import os\n",
    "import re"
   ]
  },
  {
   "cell_type": "code",
   "execution_count": 245,
   "metadata": {},
   "outputs": [
    {
     "name": "stdout",
     "output_type": "stream",
     "text": [
      "Select the output path from below\n",
      "/home/jinho/FlagEmbedding_Aizip/beir/aizip/search_result/arguana/20250226_0347\n"
     ]
    }
   ],
   "source": [
    "path = f\"/home/jinho/FlagEmbedding_Aizip/beir/aizip/search_result/{dataset_name}\"\n",
    "print(\"Select the output path from below\")\n",
    "for entry in os.listdir(path):\n",
    "    print(os.path.join(path, entry))"
   ]
  },
  {
   "cell_type": "code",
   "execution_count": 249,
   "metadata": {},
   "outputs": [],
   "source": [
    "pattern = r\"_(\\d+\\.\\d+)_rank_(\\d+)\"\n",
    "\n",
    "path = \"/home/jinho/FlagEmbedding_Aizip/beir/aizip/search_result/arguana/20250226_0347\"\n",
    "\n",
    "eval_metric = \"recall_at_3\"\n",
    "\n",
    "top_metric = 0\n",
    "top_path = None\n",
    "\n",
    "for entry in os.listdir(path):\n",
    "    match = re.search(pattern, entry)\n",
    "    alpha, rank = match.groups()\n",
    "    full_path = os.path.join(path, entry)\n",
    "    if os.path.isdir(full_path):\n",
    "        embedder_path = os.path.join(full_path, os.listdir(full_path)[0])\n",
    "        for ranker in os.listdir(embedder_path):\n",
    "            if ranker != \"NoReranker\":\n",
    "                embedder_ranker_path = os.path.join(embedder_path, ranker)\n",
    "                eval_path = os.path.join(embedder_ranker_path, \"EVAL/eval_results.json\")\n",
    "                with open(eval_path, \"r\") as f:\n",
    "                    eval = json.load(f)\n",
    "                    metric = eval[list(eval.keys())[0]][eval_metric]\n",
    "                    if metric > top_metric:\n",
    "                        top_metric = metric\n",
    "                        top_path = embedder_ranker_path"
   ]
  },
  {
   "cell_type": "code",
   "execution_count": 250,
   "metadata": {},
   "outputs": [
    {
     "data": {
      "text/plain": [
       "'/home/jinho/FlagEmbedding_Aizip/beir/aizip/search_result/arguana/20250226_0347/alpha_0.9_rank_3/bge-large-en-v1.5/bge-reranker-large'"
      ]
     },
     "execution_count": 250,
     "metadata": {},
     "output_type": "execute_result"
    }
   ],
   "source": [
    "top_path"
   ]
  },
  {
   "cell_type": "code",
   "execution_count": 251,
   "metadata": {},
   "outputs": [
    {
     "data": {
      "text/plain": [
       "0.69559"
      ]
     },
     "execution_count": 251,
     "metadata": {},
     "output_type": "execute_result"
    }
   ],
   "source": [
    "top_metric"
   ]
  },
  {
   "cell_type": "code",
   "execution_count": 252,
   "metadata": {},
   "outputs": [],
   "source": [
    "for file_name in os.listdir(top_path):\n",
    "    if \"json\" in file_name:\n",
    "        search_result_fpath = os.path.join(top_path, file_name)"
   ]
  },
  {
   "cell_type": "code",
   "execution_count": 253,
   "metadata": {},
   "outputs": [
    {
     "data": {
      "text/plain": [
       "'/home/jinho/FlagEmbedding_Aizip/beir/aizip/search_result/arguana/20250226_0347/alpha_0.9_rank_3/bge-large-en-v1.5/bge-reranker-large/arguana-test.json'"
      ]
     },
     "execution_count": 253,
     "metadata": {},
     "output_type": "execute_result"
    }
   ],
   "source": [
    "search_result_fpath"
   ]
  },
  {
   "cell_type": "code",
   "execution_count": 254,
   "metadata": {},
   "outputs": [],
   "source": [
    "with open(search_result_fpath, \"r\") as f:\n",
    "    search_results = json.load(f)"
   ]
  },
  {
   "cell_type": "code",
   "execution_count": 255,
   "metadata": {},
   "outputs": [],
   "source": [
    "results = search_results['search_results']"
   ]
  },
  {
   "cell_type": "code",
   "execution_count": 256,
   "metadata": {},
   "outputs": [],
   "source": [
    "corpus_dic = {}\n",
    "for c in corpus:\n",
    "    if c['id'] in corpus_dic:\n",
    "        print(c['id'])\n",
    "    corpus_dic[c['id']] = c['text']"
   ]
  },
  {
   "cell_type": "code",
   "execution_count": 257,
   "metadata": {},
   "outputs": [
    {
     "name": "stdout",
     "output_type": "stream",
     "text": [
      "test-free-speech-debate-yfsdfkhbwu-con03b\n",
      "test-education-ufsdfkhbwu-con03b\n",
      "test-politics-dhwem-pro06b\n",
      "test-science-sghwbdgmo-con03b\n",
      "test-society-asfhwapg-con04b\n"
     ]
    }
   ],
   "source": [
    "qrel_dic = {}\n",
    "for d in qrels:\n",
    "    qid = d['qid']\n",
    "    docid = d['docid']\n",
    "    if docid not in corpus_dic:\n",
    "        print(docid)\n",
    "    if d['relevance'] != 0:\n",
    "        if qid not in qrel_dic:\n",
    "            qrel_dic[qid] = [docid]\n",
    "        else:\n",
    "            # print(\"exists\")\n",
    "            qrel_dic[qid].append(docid)"
   ]
  },
  {
   "cell_type": "code",
   "execution_count": 258,
   "metadata": {},
   "outputs": [
    {
     "data": {
      "text/plain": [
       "1406"
      ]
     },
     "execution_count": 258,
     "metadata": {},
     "output_type": "execute_result"
    }
   ],
   "source": [
    "len(results)"
   ]
  },
  {
   "cell_type": "code",
   "execution_count": 259,
   "metadata": {},
   "outputs": [
    {
     "data": {
      "text/plain": [
       "8674"
      ]
     },
     "execution_count": 259,
     "metadata": {},
     "output_type": "execute_result"
    }
   ],
   "source": [
    "len(corpus)"
   ]
  },
  {
   "cell_type": "code",
   "execution_count": 260,
   "metadata": {},
   "outputs": [
    {
     "data": {
      "text/plain": [
       "1406"
      ]
     },
     "execution_count": 260,
     "metadata": {},
     "output_type": "execute_result"
    }
   ],
   "source": [
    "len(qrel_dic)"
   ]
  },
  {
   "cell_type": "code",
   "execution_count": 261,
   "metadata": {},
   "outputs": [],
   "source": [
    "correct = []\n",
    "incorrect = []\n",
    "for q in queries:\n",
    "    qid = q['id']\n",
    "    qtext = q['text']\n",
    "    gt_corpus_list = qrel_dic[qid]\n",
    "    retrieved_corpus = list(results[qid].keys())\n",
    "    found = False\n",
    "    for gt_corpus in gt_corpus_list:\n",
    "        if gt_corpus in retrieved_corpus:\n",
    "            correct.append(qid)\n",
    "        else:\n",
    "            context = \"\"\n",
    "            for i in range(len(retrieved_corpus)):\n",
    "                c = retrieved_corpus[i]\n",
    "                context += f\"CONTEXT {i}\\n\\n\"\n",
    "                context += corpus_dic[c]\n",
    "                context += \"\\n\\n\"\n",
    "            if gt_corpus not in corpus_dic:\n",
    "                c = \"corpus not included (most likely a bug)\"\n",
    "            else:\n",
    "                c = corpus_dic[gt_corpus]\n",
    "            incorrect.append({\"input\": qtext, \"gt_corpus\": c, \"retrieved\": context})"
   ]
  },
  {
   "cell_type": "code",
   "execution_count": 262,
   "metadata": {},
   "outputs": [
    {
     "name": "stdout",
     "output_type": "stream",
     "text": [
      "CONTEXT 0\n",
      "\n",
      "There is a great moral difference between humans and animals. Unlike animals, humans are capable of rational thought and can alter the world around them. Other creatures were put on this earth for mankind to use, and that includes eating meat. For all these reasons we say that men and women have rights and that animals don’t. This means that eating meat is in no way like murder. It is natural for human beings to farm, kill, and eat other species. In the wild there is a brutal struggle for existence. The fact that we humans have succeeded in that struggle by exploiting our natural environment means that we have a natural right over lower species. In fact farming animals is much less brutal than the pain and hardship that animals inflict on each other naturally in the wild.  Eating meat does not need to mean cruelty to animals. There are a growing number of organic and free-range farms that can provide meat without cruelty to animals. Similarly, it might be reasonable to argue for an extension of animal welfare laws to protect farm animals - but that does not mean that it is wrong in principle to eat meat.\n",
      "\n",
      "CONTEXT 1\n",
      "\n",
      "This point assumes a naïve and Disney-like conception of nature. Hunting and fishing are natural activities - many other species in the wild kill and eat each other. If fear, stress, exhaustion and pain are natural parts of the cycle of life then why should there be any particular duty on us to prevent them?  We, like other animals, prefer our own- our own family, the “pack” that we happen to run with, and the larger communities constructed on the smaller ones, of which the largest is the ‘nation-state’.  Suppose a dog menaced a human infant and the only way to prevent the dog from biting the infant was to inflict severe pain on the dog – more pain, in fact, than the bite would inflict on the infant. Any normal person would say that it would be monstrous to spare the dog, even though to do so would be to minimise the sum of pain in the world. We should respect this instinctive moral reaction. [1]  [1] See the arguments of Richard A. Posner from 'Animal Rights debate between Peter Singer &amp; Richard Posner'.\n",
      "\n",
      "CONTEXT 2\n",
      "\n",
      "We are morally responsible creatures and we can survive perfectly well without being cruel to animals. Animals are different because they need to hunt to survive and are not morally responsible. The interests they satisfy by being cruel to other animals (namely the need to eat) are momentous whereas the human need to wear a fur coat or have a tasty burger instead of a vegetarian pasta dish is trivial. We even use animals for entertainment, something that by definition is unnecessary.\n",
      "\n",
      "\n"
     ]
    }
   ],
   "source": [
    "print(incorrect[0]['retrieved'])"
   ]
  },
  {
   "cell_type": "code",
   "execution_count": 263,
   "metadata": {},
   "outputs": [
    {
     "data": {
      "text/plain": [
       "978"
      ]
     },
     "execution_count": 263,
     "metadata": {},
     "output_type": "execute_result"
    }
   ],
   "source": [
    "len(correct)"
   ]
  },
  {
   "cell_type": "code",
   "execution_count": 264,
   "metadata": {},
   "outputs": [
    {
     "data": {
      "text/plain": [
       "1406"
      ]
     },
     "execution_count": 264,
     "metadata": {},
     "output_type": "execute_result"
    }
   ],
   "source": [
    "len(correct) + len(incorrect)"
   ]
  },
  {
   "cell_type": "code",
   "execution_count": 265,
   "metadata": {},
   "outputs": [
    {
     "data": {
      "text/plain": [
       "0.6955903271692745"
      ]
     },
     "execution_count": 265,
     "metadata": {},
     "output_type": "execute_result"
    }
   ],
   "source": [
    "len(correct) / (len(correct) + len(incorrect))"
   ]
  },
  {
   "cell_type": "code",
   "execution_count": 266,
   "metadata": {},
   "outputs": [
    {
     "name": "stdout",
     "output_type": "stream",
     "text": [
      "0.69559\n"
     ]
    }
   ],
   "source": [
    "print(top_metric)"
   ]
  },
  {
   "cell_type": "code",
   "execution_count": 267,
   "metadata": {},
   "outputs": [],
   "source": [
    "import csv"
   ]
  },
  {
   "cell_type": "code",
   "execution_count": 268,
   "metadata": {},
   "outputs": [],
   "source": [
    "import os"
   ]
  },
  {
   "cell_type": "code",
   "execution_count": 269,
   "metadata": {},
   "outputs": [],
   "source": [
    "dirname = os.path.dirname(search_result_fpath)"
   ]
  },
  {
   "cell_type": "code",
   "execution_count": 270,
   "metadata": {},
   "outputs": [
    {
     "data": {
      "text/plain": [
       "'/home/jinho/FlagEmbedding_Aizip/beir/aizip/search_result/arguana/20250226_0347/alpha_0.9_rank_3/bge-large-en-v1.5/bge-reranker-large'"
      ]
     },
     "execution_count": 270,
     "metadata": {},
     "output_type": "execute_result"
    }
   ],
   "source": [
    "dirname"
   ]
  },
  {
   "cell_type": "code",
   "execution_count": 273,
   "metadata": {},
   "outputs": [
    {
     "name": "stdout",
     "output_type": "stream",
     "text": [
      "CSV file written successfully!\n",
      "/home/jinho/FlagEmbedding_Aizip/beir/aizip/search_result/arguana/20250226_0347/alpha_0.9_rank_3/bge-large-en-v1.5/bge-reranker-large/arguana_missed_retrieval.csv\n"
     ]
    }
   ],
   "source": [
    "# Write to CSV file\n",
    "with open(f'{dirname}/{dataset_name}_missed_retrieval.csv', 'w', newline='') as csvfile:\n",
    "    # Get the field names from the first dictionary\n",
    "    fieldnames = incorrect[0].keys()\n",
    "    \n",
    "    writer = csv.DictWriter(csvfile, fieldnames=fieldnames)\n",
    "    \n",
    "    # Write header\n",
    "    writer.writeheader()\n",
    "    \n",
    "    # Write rows\n",
    "    writer.writerows(incorrect)\n",
    "\n",
    "print(\"CSV file written successfully!\")\n",
    "\n",
    "print(f'{dirname}/{dataset_name}_missed_retrieval.csv')"
   ]
  }
 ],
 "metadata": {
  "kernelspec": {
   "display_name": "llm",
   "language": "python",
   "name": "python3"
  },
  "language_info": {
   "codemirror_mode": {
    "name": "ipython",
    "version": 3
   },
   "file_extension": ".py",
   "mimetype": "text/x-python",
   "name": "python",
   "nbconvert_exporter": "python",
   "pygments_lexer": "ipython3",
   "version": "3.10.14"
  }
 },
 "nbformat": 4,
 "nbformat_minor": 2
}
