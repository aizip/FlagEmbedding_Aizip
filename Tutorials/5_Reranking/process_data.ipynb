{
 "cells": [
  {
   "cell_type": "code",
   "execution_count": null,
   "metadata": {},
   "outputs": [],
   "source": [
    "import json\n",
    "\n",
    "with open(\"/home/jinho/beir/data/fiqa/test_queries.jsonl\", \"r\", encoding=\"utf-8\") as f:\n",
    "    data_list = [json.loads(line) for line in f]  # List of JSON objects"
   ]
  },
  {
   "cell_type": "code",
   "execution_count": null,
   "metadata": {},
   "outputs": [],
   "source": [
    "data_list"
   ]
  },
  {
   "cell_type": "code",
   "execution_count": null,
   "metadata": {},
   "outputs": [],
   "source": [
    "with open(\"/home/jinho/FlagEmbedding_Aizip/Tutorials/4_Evaluation/aizip_tesla/corpus.json\", \"r\") as f:\n",
    "    corp = json.loads(f.read())\n",
    "\n",
    "corp_l = []\n",
    "for d in corp:\n",
    "    corp_l.append({'id': d, 'title': \"\", 'text': corp[d]})\n",
    "\n",
    "with open(\"/home/jinho/data/aizip_tesla/corpus.jsonl\", \"w\", encoding=\"utf-8\") as f:\n",
    "    f.write(\"\\n\".join(json.dumps(item) for item in corp_l) + \"\\n\")"
   ]
  },
  {
   "cell_type": "code",
   "execution_count": null,
   "metadata": {},
   "outputs": [],
   "source": [
    "with open(\"/home/jinho/FlagEmbedding_Aizip/Tutorials/4_Evaluation/aizip_tesla/queries.json\", \"r\") as f:\n",
    "    queries = json.loads(f.read())\n",
    "\n",
    "queries_l = []\n",
    "for d in queries:\n",
    "    queries_l.append({'id': d, 'text': queries[d]})\n",
    "\n",
    "with open(\"/home/jinho/data/aizip_tesla/queries.jsonl\", \"w\", encoding=\"utf-8\") as f:\n",
    "    f.write(\"\\n\".join(json.dumps(item) for item in queries_l) + \"\\n\")"
   ]
  },
  {
   "cell_type": "code",
   "execution_count": null,
   "metadata": {},
   "outputs": [],
   "source": [
    "queries_l"
   ]
  },
  {
   "cell_type": "code",
   "execution_count": null,
   "metadata": {},
   "outputs": [],
   "source": [
    "with open(\"/home/jinho/FlagEmbedding_Aizip/Tutorials/4_Evaluation/aizip_tesla/qrels.json\", \"r\") as f:\n",
    "    qrels = json.loads(f.read())\n",
    "\n",
    "qrels_l = []\n",
    "for qid in qrels:\n",
    "    for docid in qrels[qid]:\n",
    "        qrels_l.append({'qid': qid, 'docid': docid, 'relevance': 1})\n",
    "\n",
    "with open(\"/home/jinho/data/aizip_tesla/test_qrels.jsonl\", \"w\", encoding=\"utf-8\") as f:\n",
    "    f.write(\"\\n\".join(json.dumps(item) for item in qrels_l) + \"\\n\")"
   ]
  },
  {
   "cell_type": "code",
   "execution_count": null,
   "metadata": {},
   "outputs": [],
   "source": [
    "with open(\"/home/jinho/FlagEmbedding_Aizip/Tutorials/4_Evaluation/aizip_tesla/qrels.json\", \"r\") as f:\n",
    "    queries = json.loads(f.read())\n",
    "\n",
    "queries_l = []\n",
    "for d in queries:\n",
    "    queries_l.append({'id': d, 'text': queries[d]})\n",
    "\n",
    "with open(\"/home/jinho/FlagEmbedding_Aizip/Tutorials/4_Evaluation/aizip_tesla/queries.jsonl\", \"w\", encoding=\"utf-8\") as f:\n",
    "    f.write(\"\\n\".join(json.dumps(item) for item in queries_l) + \"\\n\")"
   ]
  }
 ],
 "metadata": {
  "kernelspec": {
   "display_name": "llm",
   "language": "python",
   "name": "python3"
  },
  "language_info": {
   "name": "python",
   "version": "3.10.14"
  }
 },
 "nbformat": 4,
 "nbformat_minor": 2
}
